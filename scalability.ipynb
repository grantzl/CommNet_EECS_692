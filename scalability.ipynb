{
  "nbformat": 4,
  "nbformat_minor": 0,
  "metadata": {
    "colab": {
      "name": "Untitled1.ipynb",
      "provenance": [],
      "collapsed_sections": []
    },
    "kernelspec": {
      "name": "python3",
      "display_name": "Python 3"
    },
    "language_info": {
      "name": "python"
    },
    "accelerator": "GPU"
  },
  "cells": [
    {
      "cell_type": "code",
      "source": [
        "%%bash\n",
        "MINICONDA_INSTALLER_SCRIPT=Miniconda3-4.5.4-Linux-x86_64.sh\n",
        "MINICONDA_PREFIX=/usr/local\n",
        "wget https://repo.continuum.io/miniconda/$MINICONDA_INSTALLER_SCRIPT\n",
        "chmod +x $MINICONDA_INSTALLER_SCRIPT\n",
        "./$MINICONDA_INSTALLER_SCRIPT -b -f -p $MINICONDA_PREFIX"
      ],
      "metadata": {
        "id": "4dY7DFz7eX_4"
      },
      "execution_count": null,
      "outputs": []
    },
    {
      "cell_type": "code",
      "source": [
        "!which conda # should return /usr/local/bin/conda"
      ],
      "metadata": {
        "id": "x1xVTG6WecQV"
      },
      "execution_count": null,
      "outputs": []
    },
    {
      "cell_type": "code",
      "source": [
        "%%bash\n",
        "conda install --channel defaults conda python=3.6 --yes\n",
        "conda update --channel defaults --all --yes"
      ],
      "metadata": {
        "id": "CFXUVDvjfDxF"
      },
      "execution_count": null,
      "outputs": []
    },
    {
      "cell_type": "code",
      "source": [
        "!conda create --name 692fp python=2.7"
      ],
      "metadata": {
        "id": "a3wvj9ilfdaj"
      },
      "execution_count": null,
      "outputs": []
    },
    {
      "cell_type": "code",
      "source": [
        "!conda update conda -y -q\n",
        "!source /usr/local/etc/profile.d/conda.sh\n",
        "!conda init bash\n",
        "#!conda install -n root _license -y -q"
      ],
      "metadata": {
        "id": "qGfJchmkg8BH"
      },
      "execution_count": null,
      "outputs": []
    },
    {
      "cell_type": "code",
      "source": [
        "%%bash\n",
        "eval \"$(conda shell.bash hook)\" # copy conda command to shell\n",
        "conda activate 692fp\n",
        "python --version\n",
        "conda env list\n",
        "git clone https://github.com/grantzl/CommNet_EECS_692.git #https://github.com/IC3Net/IC3Net.git \n",
        "pip install torch==0.4.0 -f https://download.pytorch.org/whl/torch_stable.html\n",
        "pip install Pillow==6.2.0\n",
        "pip install numpy==1.13.3\n",
        "pip install visdom==0.1.4\n",
        "pip install gym\n",
        "pip list\n",
        "conda deactivate"
      ],
      "metadata": {
        "id": "RWGrvSnig3Or"
      },
      "execution_count": null,
      "outputs": []
    },
    {
      "cell_type": "code",
      "source": [
        "%%bash\n",
        "eval \"$(conda shell.bash hook)\" # copy conda command to shell\n",
        "conda activate 692fp\n",
        "cd CommNet_EECS_692/ic3net-envs\n",
        "python setup.py develop\n",
        "conda deactivate"
      ],
      "metadata": {
        "id": "Mziv-EQRhtf_"
      },
      "execution_count": null,
      "outputs": []
    },
    {
      "cell_type": "markdown",
      "source": [
        "# **Set up Visdom**\n",
        "The authors use Visdom for visualization of the results, which doesn't have native support with Colab. \n",
        "\n",
        "To still use it, run the below cell once, it will output a link that's a localtunnel, where after clicking the button it'll present the Visdom UI.\n",
        "\n",
        "After the cell is run, continue with training/evaluation and just refresh the Visdom window to see the charts update"
      ],
      "metadata": {
        "id": "082LhSZrtjP5"
      }
    },
    {
      "cell_type": "code",
      "source": [
        "! npm install -g localtunnel\n",
        "get_ipython().system_raw('/usr/local/bin/python -m pip install visdom')\n",
        "get_ipython().system_raw('/usr/local/bin/python -m visdom.server -port 8097 >> visdomlog.txt 2>&1 &')\n",
        "get_ipython().system_raw('lt --port 8097 >> url.txt 2>&1 &')\n",
        "import time\n",
        "time.sleep(5)\n",
        "! cat url.txt"
      ],
      "metadata": {
        "id": "m4Za3yAGhx8l"
      },
      "execution_count": null,
      "outputs": []
    },
    {
      "cell_type": "markdown",
      "source": [
        "# **To save the model**\n",
        "\n",
        "`--save [file_name]`\n",
        "\n",
        "Download the file once training is done\n",
        "\n",
        "# **To load the model**\n",
        "\n",
        "Upload the downloaded file to the directory\n",
        "\n",
        "`--load [file_name]`\n",
        "\n",
        "# **Plotting**\n",
        "\n",
        "`--plot`"
      ],
      "metadata": {
        "id": "RpLkKJLgb8tb"
      }
    },
    {
      "cell_type": "code",
      "source": [
        "%%bash\n",
        "eval \"$(conda shell.bash hook)\" # copy conda command to shell\n",
        "conda activate 692fp\n",
        "cd IC3Net/\n",
        "python main.py --env_name predator_prey --nagents 3 --nprocesses 1 --num_epochs 1000 --hid_size 128 --detach_gap 10 --lrate 0.001 --dim 5 --max_steps 20 --ic3net --vision 0 --recurrent --save model_prey.model --plot --plot_env main\n",
        "conda deactivate"
      ],
      "metadata": {
        "id": "p8IR76LdjeLi"
      },
      "execution_count": null,
      "outputs": []
    },
    {
      "cell_type": "code",
      "source": [
        "%load_ext autoreload\n",
        "%autoreload 2"
      ],
      "metadata": {
        "id": "mwMwVrIS9Ci0"
      },
      "execution_count": null,
      "outputs": []
    },
    {
      "cell_type": "code",
      "source": [
        "%%bash\n",
        "eval \"$(conda shell.bash hook)\" # copy conda command to shell\n",
        "conda activate 692fp\n",
        "cd CommNet_EECS_692/\n",
        "pwd\n",
        "\n",
        "# Command for easy\n",
        "#python main.py --env_name traffic_junction --roads 2 --nagents 5 --nprocesses 1 --num_epochs 2000 --hid_size 128 --detach_gap 10 --lrate 0.001 --dim 6 --max_steps 20 --commnet --vision 0 --recurrent  --add_rate_min 0.1 --add_rate_max 0.3 --curr_start 250 --curr_end 1250 --difficulty easy --save traffic_easy.model --save_every 100\n",
        "\n",
        "# Command for medium\n",
        "python main.py --env_name traffic_junction --roads 4 --nagents 20 --nprocesses 1 --num_epochs 2000 --hid_size 128 --detach_gap 10 --lrate 0.001 --dim 14 --max_steps 40 --commnet --vision 0 --recurrent --add_rate_min 0.02 --add_rate_max 0.05 --curr_start 50 --curr_end 150 --difficulty medium --plot --plot_env main --save traffic_med.model --save_every 200\n",
        "\n",
        "#conda deactivate"
      ],
      "metadata": {
        "id": "mP17ixm7kGlE"
      },
      "execution_count": null,
      "outputs": []
    },
    {
      "cell_type": "markdown",
      "source": [
        "**Modify Number Agents**"
      ],
      "metadata": {
        "id": "w6Mq-KXRNcf2"
      }
    },
    {
      "cell_type": "code",
      "source": [
        "%%bash\n",
        "eval \"$(conda shell.bash hook)\" # copy conda command to shell\n",
        "conda activate 692fp\n",
        "cd CommNet_EECS_692/\n",
        "\n",
        "for (( i = 1; i < 10; ++i )); do\n",
        "  x=$(( 2*i ))\n",
        "  python main.py --env_name traffic_junction --roads 4 --load traffic_easy.model --nagents ${x} --nprocesses 1 --num_epochs 1 --hid_size 128 --detach_gap 10 --lrate 0.001 --dim 6 --max_steps 20 --commnet --vision 0 --recurrent  --add_rate_min 0.02 --add_rate_max 0.05 --difficulty easy\n",
        "\n",
        "done"
      ],
      "metadata": {
        "id": "1g5Mz8sxBOAP"
      },
      "execution_count": null,
      "outputs": []
    },
    {
      "cell_type": "markdown",
      "source": [
        "**Modify Number Roads**"
      ],
      "metadata": {
        "id": "LWupRXUaNild"
      }
    },
    {
      "cell_type": "code",
      "source": [
        "%%bash\n",
        "eval \"$(conda shell.bash hook)\" # copy conda command to shell\n",
        "conda activate 692fp\n",
        "cd CommNet_EECS_692/\n",
        "\n",
        "for (( i = 1; i < 10; ++i )); do\n",
        "  x=$(( 2*i ))\n",
        "  python main.py --env_name traffic_junction --roads ${x} --load traffic_easy.model --nagents 20 --nprocesses 1 --num_epochs 1 --hid_size 128 --detach_gap 10 --lrate 0.001 --dim 6 --max_steps 20 --commnet --vision 0 --recurrent  --add_rate_min 0.02 --add_rate_max 0.05 --difficulty easy\n",
        "\n",
        "done"
      ],
      "metadata": {
        "id": "wRhm5d0dNk4h"
      },
      "execution_count": null,
      "outputs": []
    },
    {
      "cell_type": "markdown",
      "source": [
        "**Modify both Number Roads & Number Agents**"
      ],
      "metadata": {
        "id": "UjDi4Ng7NsGo"
      }
    },
    {
      "cell_type": "code",
      "source": [
        "%%bash\n",
        "eval \"$(conda shell.bash hook)\" # copy conda command to shell\n",
        "conda activate 692fp\n",
        "cd CommNet_EECS_692/\n",
        "\n",
        "for (( i = 1; i < 10; ++i )); do\n",
        "  x=$(( 2*i ))\n",
        "  python main.py --env_name traffic_junction --roads ${x} --load traffic_easy.model --nagents ${x} --nprocesses 1 --num_epochs 1 --hid_size 128 --detach_gap 10 --lrate 0.001 --dim 6 --max_steps 20 --commnet --vision 0 --recurrent  --add_rate_min 0.02 --add_rate_max 0.05 --difficulty easy\n",
        "\n",
        "done"
      ],
      "metadata": {
        "id": "JZ80MnYoNv2m"
      },
      "execution_count": null,
      "outputs": []
    }
  ]
}